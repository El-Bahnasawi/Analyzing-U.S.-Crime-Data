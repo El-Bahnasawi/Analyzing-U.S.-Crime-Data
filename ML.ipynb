{
 "cells": [
  {
   "cell_type": "code",
   "execution_count": 1,
   "metadata": {},
   "outputs": [],
   "source": [
    "import seaborn as sns\n",
    "import matplotlib.pyplot as plt\n",
    "import pandas as pd\n",
    "from pprint import pprint\n",
    "from sklearn.model_selection import train_test_split\n",
    "from sklearn.preprocessing import StandardScaler, OrdinalEncoder, OneHotEncoder\n",
    "from sklearn.impute import SimpleImputer\n",
    "from sklearn.metrics import (r2_score, accuracy_score, precision_score, \n",
    "                             confusion_matrix, recall_score, f1_score, roc_auc_score)\n",
    "from sklearn.linear_model import LinearRegression\n",
    "import pickle"
   ]
  },
  {
   "cell_type": "code",
   "execution_count": 2,
   "metadata": {},
   "outputs": [],
   "source": [
    "from constants import *\n",
    "from utils import DirectoryManager, FileDownloader"
   ]
  },
  {
   "cell_type": "code",
   "execution_count": 3,
   "metadata": {},
   "outputs": [
    {
     "name": "stdout",
     "output_type": "stream",
     "text": [
      "All files are already downloaded\n"
     ]
    }
   ],
   "source": [
    "directory_manager = DirectoryManager(\"data\")\n",
    "file_downloader = FileDownloader(directory_manager)\n",
    "\n",
    "file_downloader.download_files(urls_wget, urls_gdown)"
   ]
  },
  {
   "cell_type": "code",
   "execution_count": 4,
   "metadata": {},
   "outputs": [],
   "source": [
    "georgia_reciddf = pd.read_csv('data/georgia_recidivism.csv')\n",
    "georgia_reciddf = georgia_reciddf.drop(columns=\"id\") "
   ]
  },
  {
   "cell_type": "code",
   "execution_count": 5,
   "metadata": {},
   "outputs": [
    {
     "name": "stdout",
     "output_type": "stream",
     "text": [
      "{'1_original shape': (25835, 53),\n",
      " '2_count of null values': 36700,\n",
      " '3_no. of duplicates': 0,\n",
      " '4_shape after removing duplication and nan': (14170, 53)}\n"
     ]
    }
   ],
   "source": [
    "shape_dict = {\n",
    "    \"1_original shape\": georgia_reciddf.shape,\n",
    "    \"2_count of null values\": georgia_reciddf.isna().sum().sum(),\n",
    "    \"3_no. of duplicates\": georgia_reciddf.duplicated().sum(),\n",
    "    \"4_shape after removing duplication and nan\": georgia_reciddf.dropna().drop_duplicates().shape,\n",
    "}\n",
    "pprint(shape_dict)"
   ]
  },
  {
   "cell_type": "code",
   "execution_count": 6,
   "metadata": {},
   "outputs": [
    {
     "data": {
      "text/plain": [
       "['gang_affiliated',\n",
       " 'supervision_risk_score_first',\n",
       " 'supervision_level_first',\n",
       " 'prison_offense',\n",
       " 'avg_days_per_drugtest',\n",
       " 'drugtests_thc_positive',\n",
       " 'drugtests_cocaine_positive',\n",
       " 'drugtests_meth_positive',\n",
       " 'drugtests_other_positive',\n",
       " 'percent_days_employed',\n",
       " 'jobs_per_year']"
      ]
     },
     "execution_count": 6,
     "metadata": {},
     "output_type": "execute_result"
    }
   ],
   "source": [
    "columns_with_nan = georgia_reciddf.columns[georgia_reciddf.isna().any()].tolist()\n",
    "columns_with_nan"
   ]
  },
  {
   "cell_type": "code",
   "execution_count": 7,
   "metadata": {},
   "outputs": [
    {
     "data": {
      "text/plain": [
       "avg_days_per_drugtest           6103\n",
       "drugtests_thc_positive          5172\n",
       "drugtests_cocaine_positive      5172\n",
       "drugtests_meth_positive         5172\n",
       "drugtests_other_positive        5172\n",
       "prison_offense                  3277\n",
       "gang_affiliated                 3167\n",
       "supervision_level_first         1720\n",
       "jobs_per_year                    808\n",
       "supervision_risk_score_first     475\n",
       "percent_days_employed            462\n",
       "dtype: int64"
      ]
     },
     "execution_count": 7,
     "metadata": {},
     "output_type": "execute_result"
    }
   ],
   "source": [
    "georgia_reciddf[columns_with_nan].isna().sum().sort_values(ascending=False)"
   ]
  },
  {
   "cell_type": "code",
   "execution_count": 8,
   "metadata": {},
   "outputs": [],
   "source": [
    "columns_with_nan_numerical = georgia_reciddf[columns_with_nan].select_dtypes(include=[float, int]).columns.tolist()\n",
    "columns_with_nan_categorical = georgia_reciddf[columns_with_nan].select_dtypes(include=[object, bool]).columns.tolist()"
   ]
  },
  {
   "cell_type": "code",
   "execution_count": 9,
   "metadata": {},
   "outputs": [],
   "source": [
    "imputer_numerical = SimpleImputer(strategy='mean')\n",
    "imputer_numerical.fit(georgia_reciddf[columns_with_nan_numerical])\n",
    "georgia_reciddf[columns_with_nan_numerical] = imputer_numerical.fit_transform(georgia_reciddf[columns_with_nan_numerical])"
   ]
  },
  {
   "cell_type": "code",
   "execution_count": 10,
   "metadata": {},
   "outputs": [],
   "source": [
    "imputer_categorical = SimpleImputer(strategy='most_frequent')\n",
    "imputer_categorical.fit(georgia_reciddf[columns_with_nan_categorical])\n",
    "georgia_reciddf[columns_with_nan_categorical] = imputer_categorical.fit_transform(georgia_reciddf[columns_with_nan_categorical])"
   ]
  },
  {
   "cell_type": "code",
   "execution_count": 11,
   "metadata": {},
   "outputs": [],
   "source": [
    "georgia_reciddf[\"gang_affiliated\"] = georgia_reciddf[\"gang_affiliated\"].astype(int)"
   ]
  },
  {
   "cell_type": "code",
   "execution_count": 12,
   "metadata": {},
   "outputs": [],
   "source": [
    "bool_features = georgia_reciddf.select_dtypes(include=bool).columns.tolist()\n",
    "\n",
    "nominal_features = ['gender', 'prison_offense', 'race']\n",
    "\n",
    "ordinal_features = [\"age_at_release\", \"supervision_level_first\",\n",
    "                     \"education_level\", \"dependents\", \"prison_years\", \"prior_arrest_episodes_felony\",\n",
    "                     \"prior_arrest_episodes_misd\", \"prior_arrest_episodes_violent\", \"prior_arrest_episodes_property\",\n",
    "                     \"prior_arrest_episodes_drug\", \"prior_arrest_episodes\", \"prior_conviction_episodes\",\n",
    "                     \"prior_conviction_episodes_1\", \"prior_conviction_episodes_3\", \"prior_conviction_episodes_4\",\n",
    "                     \"delinquency_reports\", \"program_attendances\", \"program_unexcusedabsences\", \"residence_changes\"]"
   ]
  },
  {
   "cell_type": "code",
   "execution_count": 13,
   "metadata": {},
   "outputs": [
    {
     "data": {
      "text/plain": [
       "True"
      ]
     },
     "execution_count": 13,
     "metadata": {},
     "output_type": "execute_result"
    }
   ],
   "source": [
    "# Check if the combined set of nominal and ordinal features is the same to the set of object and bool columns in georgia_reciddf\n",
    "set(nominal_features + ordinal_features) == set(georgia_reciddf.select_dtypes(include=object).columns)"
   ]
  },
  {
   "cell_type": "markdown",
   "metadata": {},
   "source": [
    "<h1> Transformations"
   ]
  },
  {
   "cell_type": "markdown",
   "metadata": {},
   "source": [
    "<h2> Bool Features"
   ]
  },
  {
   "cell_type": "code",
   "execution_count": 14,
   "metadata": {},
   "outputs": [],
   "source": [
    "georgia_reciddf[bool_features] = georgia_reciddf[bool_features].astype(int)"
   ]
  },
  {
   "cell_type": "markdown",
   "metadata": {},
   "source": [
    "<h2> Nominal Features"
   ]
  },
  {
   "cell_type": "code",
   "execution_count": 15,
   "metadata": {},
   "outputs": [
    {
     "name": "stdout",
     "output_type": "stream",
     "text": [
      "{'gender': ['M', 'F'],\n",
      " 'prison_offense': ['Drug',\n",
      "                    'Violent/Non-Sex',\n",
      "                    'Property',\n",
      "                    'Other',\n",
      "                    'Violent/Sex'],\n",
      " 'race': ['BLACK', 'WHITE']}\n"
     ]
    }
   ],
   "source": [
    "unique_nominal_dict = {}\n",
    "for feature in nominal_features:\n",
    "    unique_nominal_dict[feature] = georgia_reciddf[feature].unique().tolist()\n",
    "pprint(unique_nominal_dict)"
   ]
  },
  {
   "cell_type": "code",
   "execution_count": 16,
   "metadata": {},
   "outputs": [
    {
     "data": {
      "text/plain": [
       "['F',\n",
       " 'M',\n",
       " 'Drug',\n",
       " 'Other',\n",
       " 'Property',\n",
       " 'Violent/Non-Sex',\n",
       " 'Violent/Sex',\n",
       " 'BLACK',\n",
       " 'WHITE']"
      ]
     },
     "execution_count": 16,
     "metadata": {},
     "output_type": "execute_result"
    }
   ],
   "source": [
    "ohe = OneHotEncoder()\n",
    "feature_array = ohe.fit_transform(georgia_reciddf[nominal_features]).toarray()\n",
    "\n",
    "feature_labels = []\n",
    "for category in ohe.categories_:\n",
    "    feature_labels.extend(list(category)) \n",
    "feature_labels"
   ]
  },
  {
   "cell_type": "code",
   "execution_count": 17,
   "metadata": {},
   "outputs": [
    {
     "data": {
      "text/html": [
       "<div>\n",
       "<style scoped>\n",
       "    .dataframe tbody tr th:only-of-type {\n",
       "        vertical-align: middle;\n",
       "    }\n",
       "\n",
       "    .dataframe tbody tr th {\n",
       "        vertical-align: top;\n",
       "    }\n",
       "\n",
       "    .dataframe thead th {\n",
       "        text-align: right;\n",
       "    }\n",
       "</style>\n",
       "<table border=\"1\" class=\"dataframe\">\n",
       "  <thead>\n",
       "    <tr style=\"text-align: right;\">\n",
       "      <th></th>\n",
       "      <th>F</th>\n",
       "      <th>M</th>\n",
       "      <th>Drug</th>\n",
       "      <th>Other</th>\n",
       "      <th>Property</th>\n",
       "      <th>Violent/Non-Sex</th>\n",
       "      <th>Violent/Sex</th>\n",
       "      <th>BLACK</th>\n",
       "      <th>WHITE</th>\n",
       "    </tr>\n",
       "  </thead>\n",
       "  <tbody>\n",
       "    <tr>\n",
       "      <th>7853</th>\n",
       "      <td>0.0</td>\n",
       "      <td>1.0</td>\n",
       "      <td>0.0</td>\n",
       "      <td>0.0</td>\n",
       "      <td>1.0</td>\n",
       "      <td>0.0</td>\n",
       "      <td>0.0</td>\n",
       "      <td>0.0</td>\n",
       "      <td>1.0</td>\n",
       "    </tr>\n",
       "    <tr>\n",
       "      <th>5849</th>\n",
       "      <td>1.0</td>\n",
       "      <td>0.0</td>\n",
       "      <td>0.0</td>\n",
       "      <td>0.0</td>\n",
       "      <td>0.0</td>\n",
       "      <td>1.0</td>\n",
       "      <td>0.0</td>\n",
       "      <td>1.0</td>\n",
       "      <td>0.0</td>\n",
       "    </tr>\n",
       "    <tr>\n",
       "      <th>13347</th>\n",
       "      <td>0.0</td>\n",
       "      <td>1.0</td>\n",
       "      <td>0.0</td>\n",
       "      <td>0.0</td>\n",
       "      <td>0.0</td>\n",
       "      <td>1.0</td>\n",
       "      <td>0.0</td>\n",
       "      <td>1.0</td>\n",
       "      <td>0.0</td>\n",
       "    </tr>\n",
       "    <tr>\n",
       "      <th>23247</th>\n",
       "      <td>0.0</td>\n",
       "      <td>1.0</td>\n",
       "      <td>0.0</td>\n",
       "      <td>0.0</td>\n",
       "      <td>0.0</td>\n",
       "      <td>1.0</td>\n",
       "      <td>0.0</td>\n",
       "      <td>1.0</td>\n",
       "      <td>0.0</td>\n",
       "    </tr>\n",
       "    <tr>\n",
       "      <th>664</th>\n",
       "      <td>0.0</td>\n",
       "      <td>1.0</td>\n",
       "      <td>0.0</td>\n",
       "      <td>0.0</td>\n",
       "      <td>1.0</td>\n",
       "      <td>0.0</td>\n",
       "      <td>0.0</td>\n",
       "      <td>1.0</td>\n",
       "      <td>0.0</td>\n",
       "    </tr>\n",
       "  </tbody>\n",
       "</table>\n",
       "</div>"
      ],
      "text/plain": [
       "         F    M  Drug  Other  Property  Violent/Non-Sex  Violent/Sex  BLACK  \\\n",
       "7853   0.0  1.0   0.0    0.0       1.0              0.0          0.0    0.0   \n",
       "5849   1.0  0.0   0.0    0.0       0.0              1.0          0.0    1.0   \n",
       "13347  0.0  1.0   0.0    0.0       0.0              1.0          0.0    1.0   \n",
       "23247  0.0  1.0   0.0    0.0       0.0              1.0          0.0    1.0   \n",
       "664    0.0  1.0   0.0    0.0       1.0              0.0          0.0    1.0   \n",
       "\n",
       "       WHITE  \n",
       "7853     1.0  \n",
       "5849     0.0  \n",
       "13347    0.0  \n",
       "23247    0.0  \n",
       "664      0.0  "
      ]
     },
     "execution_count": 17,
     "metadata": {},
     "output_type": "execute_result"
    }
   ],
   "source": [
    "df = pd.DataFrame(feature_array, columns=feature_labels)\n",
    "df.sample(5)"
   ]
  },
  {
   "cell_type": "code",
   "execution_count": 18,
   "metadata": {},
   "outputs": [
    {
     "data": {
      "text/html": [
       "<div>\n",
       "<style scoped>\n",
       "    .dataframe tbody tr th:only-of-type {\n",
       "        vertical-align: middle;\n",
       "    }\n",
       "\n",
       "    .dataframe tbody tr th {\n",
       "        vertical-align: top;\n",
       "    }\n",
       "\n",
       "    .dataframe thead th {\n",
       "        text-align: right;\n",
       "    }\n",
       "</style>\n",
       "<table border=\"1\" class=\"dataframe\">\n",
       "  <thead>\n",
       "    <tr style=\"text-align: right;\">\n",
       "      <th></th>\n",
       "      <th>M</th>\n",
       "      <th>Drug</th>\n",
       "      <th>Property</th>\n",
       "      <th>Violent/Non-Sex</th>\n",
       "      <th>Violent/Sex</th>\n",
       "      <th>WHITE</th>\n",
       "    </tr>\n",
       "  </thead>\n",
       "  <tbody>\n",
       "    <tr>\n",
       "      <th>0</th>\n",
       "      <td>1.0</td>\n",
       "      <td>1.0</td>\n",
       "      <td>0.0</td>\n",
       "      <td>0.0</td>\n",
       "      <td>0.0</td>\n",
       "      <td>0.0</td>\n",
       "    </tr>\n",
       "    <tr>\n",
       "      <th>1</th>\n",
       "      <td>1.0</td>\n",
       "      <td>0.0</td>\n",
       "      <td>0.0</td>\n",
       "      <td>1.0</td>\n",
       "      <td>0.0</td>\n",
       "      <td>0.0</td>\n",
       "    </tr>\n",
       "    <tr>\n",
       "      <th>2</th>\n",
       "      <td>1.0</td>\n",
       "      <td>1.0</td>\n",
       "      <td>0.0</td>\n",
       "      <td>0.0</td>\n",
       "      <td>0.0</td>\n",
       "      <td>0.0</td>\n",
       "    </tr>\n",
       "    <tr>\n",
       "      <th>3</th>\n",
       "      <td>1.0</td>\n",
       "      <td>0.0</td>\n",
       "      <td>1.0</td>\n",
       "      <td>0.0</td>\n",
       "      <td>0.0</td>\n",
       "      <td>1.0</td>\n",
       "    </tr>\n",
       "    <tr>\n",
       "      <th>4</th>\n",
       "      <td>1.0</td>\n",
       "      <td>0.0</td>\n",
       "      <td>0.0</td>\n",
       "      <td>1.0</td>\n",
       "      <td>0.0</td>\n",
       "      <td>1.0</td>\n",
       "    </tr>\n",
       "  </tbody>\n",
       "</table>\n",
       "</div>"
      ],
      "text/plain": [
       "     M  Drug  Property  Violent/Non-Sex  Violent/Sex  WHITE\n",
       "0  1.0   1.0       0.0              0.0          0.0    0.0\n",
       "1  1.0   0.0       0.0              1.0          0.0    0.0\n",
       "2  1.0   1.0       0.0              0.0          0.0    0.0\n",
       "3  1.0   0.0       1.0              0.0          0.0    1.0\n",
       "4  1.0   0.0       0.0              1.0          0.0    1.0"
      ]
     },
     "execution_count": 18,
     "metadata": {},
     "output_type": "execute_result"
    }
   ],
   "source": [
    "cols_to_drop = [\"F\", \"Other\", \"BLACK\"]\n",
    "df = df.drop(columns=cols_to_drop)\n",
    "df.head()"
   ]
  },
  {
   "cell_type": "code",
   "execution_count": 19,
   "metadata": {},
   "outputs": [
    {
     "data": {
      "text/html": [
       "<div>\n",
       "<style scoped>\n",
       "    .dataframe tbody tr th:only-of-type {\n",
       "        vertical-align: middle;\n",
       "    }\n",
       "\n",
       "    .dataframe tbody tr th {\n",
       "        vertical-align: top;\n",
       "    }\n",
       "\n",
       "    .dataframe thead th {\n",
       "        text-align: right;\n",
       "    }\n",
       "</style>\n",
       "<table border=\"1\" class=\"dataframe\">\n",
       "  <thead>\n",
       "    <tr style=\"text-align: right;\">\n",
       "      <th></th>\n",
       "      <th>age_at_release</th>\n",
       "      <th>residence_puma</th>\n",
       "      <th>gang_affiliated</th>\n",
       "      <th>supervision_risk_score_first</th>\n",
       "      <th>supervision_level_first</th>\n",
       "      <th>education_level</th>\n",
       "      <th>dependents</th>\n",
       "      <th>prison_years</th>\n",
       "      <th>prior_arrest_episodes_felony</th>\n",
       "      <th>prior_arrest_episodes_misd</th>\n",
       "      <th>...</th>\n",
       "      <th>recidivism_arrest_year1</th>\n",
       "      <th>recidivism_arrest_year2</th>\n",
       "      <th>recidivism_arrest_year3</th>\n",
       "      <th>training_sample</th>\n",
       "      <th>M</th>\n",
       "      <th>Drug</th>\n",
       "      <th>Property</th>\n",
       "      <th>Violent/Non-Sex</th>\n",
       "      <th>Violent/Sex</th>\n",
       "      <th>WHITE</th>\n",
       "    </tr>\n",
       "  </thead>\n",
       "  <tbody>\n",
       "    <tr>\n",
       "      <th>0</th>\n",
       "      <td>43-47</td>\n",
       "      <td>16</td>\n",
       "      <td>0</td>\n",
       "      <td>3.0</td>\n",
       "      <td>Standard</td>\n",
       "      <td>At least some college</td>\n",
       "      <td>3 or more</td>\n",
       "      <td>More than 3 years</td>\n",
       "      <td>6</td>\n",
       "      <td>6 or more</td>\n",
       "      <td>...</td>\n",
       "      <td>0</td>\n",
       "      <td>0</td>\n",
       "      <td>0</td>\n",
       "      <td>1</td>\n",
       "      <td>1.0</td>\n",
       "      <td>1.0</td>\n",
       "      <td>0.0</td>\n",
       "      <td>0.0</td>\n",
       "      <td>0.0</td>\n",
       "      <td>0.0</td>\n",
       "    </tr>\n",
       "    <tr>\n",
       "      <th>1</th>\n",
       "      <td>33-37</td>\n",
       "      <td>16</td>\n",
       "      <td>0</td>\n",
       "      <td>6.0</td>\n",
       "      <td>Specialized</td>\n",
       "      <td>Less than HS diploma</td>\n",
       "      <td>1</td>\n",
       "      <td>More than 3 years</td>\n",
       "      <td>7</td>\n",
       "      <td>6 or more</td>\n",
       "      <td>...</td>\n",
       "      <td>0</td>\n",
       "      <td>0</td>\n",
       "      <td>1</td>\n",
       "      <td>1</td>\n",
       "      <td>1.0</td>\n",
       "      <td>0.0</td>\n",
       "      <td>0.0</td>\n",
       "      <td>1.0</td>\n",
       "      <td>0.0</td>\n",
       "      <td>0.0</td>\n",
       "    </tr>\n",
       "    <tr>\n",
       "      <th>2</th>\n",
       "      <td>48 or older</td>\n",
       "      <td>24</td>\n",
       "      <td>0</td>\n",
       "      <td>7.0</td>\n",
       "      <td>High</td>\n",
       "      <td>At least some college</td>\n",
       "      <td>3 or more</td>\n",
       "      <td>1-2 years</td>\n",
       "      <td>6</td>\n",
       "      <td>6 or more</td>\n",
       "      <td>...</td>\n",
       "      <td>0</td>\n",
       "      <td>1</td>\n",
       "      <td>0</td>\n",
       "      <td>1</td>\n",
       "      <td>1.0</td>\n",
       "      <td>1.0</td>\n",
       "      <td>0.0</td>\n",
       "      <td>0.0</td>\n",
       "      <td>0.0</td>\n",
       "      <td>0.0</td>\n",
       "    </tr>\n",
       "    <tr>\n",
       "      <th>3</th>\n",
       "      <td>38-42</td>\n",
       "      <td>16</td>\n",
       "      <td>0</td>\n",
       "      <td>7.0</td>\n",
       "      <td>High</td>\n",
       "      <td>Less than HS diploma</td>\n",
       "      <td>1</td>\n",
       "      <td>1-2 years</td>\n",
       "      <td>8</td>\n",
       "      <td>6 or more</td>\n",
       "      <td>...</td>\n",
       "      <td>0</td>\n",
       "      <td>0</td>\n",
       "      <td>0</td>\n",
       "      <td>1</td>\n",
       "      <td>1.0</td>\n",
       "      <td>0.0</td>\n",
       "      <td>1.0</td>\n",
       "      <td>0.0</td>\n",
       "      <td>0.0</td>\n",
       "      <td>1.0</td>\n",
       "    </tr>\n",
       "    <tr>\n",
       "      <th>4</th>\n",
       "      <td>33-37</td>\n",
       "      <td>16</td>\n",
       "      <td>0</td>\n",
       "      <td>4.0</td>\n",
       "      <td>Specialized</td>\n",
       "      <td>Less than HS diploma</td>\n",
       "      <td>3 or more</td>\n",
       "      <td>1-2 years</td>\n",
       "      <td>4</td>\n",
       "      <td>4</td>\n",
       "      <td>...</td>\n",
       "      <td>1</td>\n",
       "      <td>0</td>\n",
       "      <td>0</td>\n",
       "      <td>1</td>\n",
       "      <td>1.0</td>\n",
       "      <td>0.0</td>\n",
       "      <td>0.0</td>\n",
       "      <td>1.0</td>\n",
       "      <td>0.0</td>\n",
       "      <td>1.0</td>\n",
       "    </tr>\n",
       "  </tbody>\n",
       "</table>\n",
       "<p>5 rows × 56 columns</p>\n",
       "</div>"
      ],
      "text/plain": [
       "  age_at_release  residence_puma  gang_affiliated  \\\n",
       "0          43-47              16                0   \n",
       "1          33-37              16                0   \n",
       "2    48 or older              24                0   \n",
       "3          38-42              16                0   \n",
       "4          33-37              16                0   \n",
       "\n",
       "   supervision_risk_score_first supervision_level_first  \\\n",
       "0                           3.0                Standard   \n",
       "1                           6.0             Specialized   \n",
       "2                           7.0                    High   \n",
       "3                           7.0                    High   \n",
       "4                           4.0             Specialized   \n",
       "\n",
       "         education_level dependents       prison_years  \\\n",
       "0  At least some college  3 or more  More than 3 years   \n",
       "1   Less than HS diploma          1  More than 3 years   \n",
       "2  At least some college  3 or more          1-2 years   \n",
       "3   Less than HS diploma          1          1-2 years   \n",
       "4   Less than HS diploma  3 or more          1-2 years   \n",
       "\n",
       "  prior_arrest_episodes_felony prior_arrest_episodes_misd  ...  \\\n",
       "0                            6                  6 or more  ...   \n",
       "1                            7                  6 or more  ...   \n",
       "2                            6                  6 or more  ...   \n",
       "3                            8                  6 or more  ...   \n",
       "4                            4                          4  ...   \n",
       "\n",
       "  recidivism_arrest_year1 recidivism_arrest_year2 recidivism_arrest_year3  \\\n",
       "0                       0                       0                       0   \n",
       "1                       0                       0                       1   \n",
       "2                       0                       1                       0   \n",
       "3                       0                       0                       0   \n",
       "4                       1                       0                       0   \n",
       "\n",
       "  training_sample    M  Drug Property Violent/Non-Sex  Violent/Sex WHITE  \n",
       "0               1  1.0   1.0      0.0             0.0          0.0   0.0  \n",
       "1               1  1.0   0.0      0.0             1.0          0.0   0.0  \n",
       "2               1  1.0   1.0      0.0             0.0          0.0   0.0  \n",
       "3               1  1.0   0.0      1.0             0.0          0.0   1.0  \n",
       "4               1  1.0   0.0      0.0             1.0          0.0   1.0  \n",
       "\n",
       "[5 rows x 56 columns]"
      ]
     },
     "execution_count": 19,
     "metadata": {},
     "output_type": "execute_result"
    }
   ],
   "source": [
    "georgia_reciddf = georgia_reciddf.drop(nominal_features, axis=1)\n",
    "georgia_reciddf = pd.concat([georgia_reciddf, df], axis=1)\n",
    "georgia_reciddf.head()"
   ]
  },
  {
   "cell_type": "markdown",
   "metadata": {},
   "source": [
    "<h2> Ordinal Features"
   ]
  },
  {
   "cell_type": "code",
   "execution_count": 20,
   "metadata": {},
   "outputs": [
    {
     "name": "stdout",
     "output_type": "stream",
     "text": [
      "{'age_at_release': ['43-47',\n",
      "                    '33-37',\n",
      "                    '48 or older',\n",
      "                    '38-42',\n",
      "                    '18-22',\n",
      "                    '23-27',\n",
      "                    '28-32'],\n",
      " 'delinquency_reports': ['0', '4 or more', '3', '2', '1'],\n",
      " 'dependents': ['3 or more', '1', '0', '2'],\n",
      " 'education_level': ['At least some college',\n",
      "                     'Less than HS diploma',\n",
      "                     'High School Diploma'],\n",
      " 'prior_arrest_episodes': ['4', '5 or more', '3', '0', '1', '2'],\n",
      " 'prior_arrest_episodes_drug': ['3', '2', '1', '0', '5 or more', '4'],\n",
      " 'prior_arrest_episodes_felony': ['6',\n",
      "                                  '7',\n",
      "                                  '8',\n",
      "                                  '4',\n",
      "                                  '10 or more',\n",
      "                                  '3',\n",
      "                                  '9',\n",
      "                                  '2',\n",
      "                                  '5',\n",
      "                                  '1',\n",
      "                                  '0'],\n",
      " 'prior_arrest_episodes_misd': ['6 or more', '4', '0', '1', '3', '5', '2'],\n",
      " 'prior_arrest_episodes_property': ['3', '0', '2', '5 or more', '1', '4'],\n",
      " 'prior_arrest_episodes_violent': ['1', '3 or more', '0', '2'],\n",
      " 'prior_conviction_episodes': ['3 or more', '1', '2', '0'],\n",
      " 'prior_conviction_episodes_1': ['3', '4 or more', '2', '0', '1'],\n",
      " 'prior_conviction_episodes_3': ['2', '0', '1', '3 or more'],\n",
      " 'prior_conviction_episodes_4': ['2 or more', '1', '0'],\n",
      " 'prison_years': ['More than 3 years',\n",
      "                  '1-2 years',\n",
      "                  'Less than 1 year',\n",
      "                  'Greater than 2 to 3 years'],\n",
      " 'program_attendances': ['6',\n",
      "                         '0',\n",
      "                         '7',\n",
      "                         '9',\n",
      "                         '10 or more',\n",
      "                         '2',\n",
      "                         '1',\n",
      "                         '5',\n",
      "                         '3',\n",
      "                         '4',\n",
      "                         '8'],\n",
      " 'program_unexcusedabsences': ['0', '2', '3 or more', '1'],\n",
      " 'residence_changes': ['2', '0', '3 or more', '1'],\n",
      " 'supervision_level_first': ['Standard', 'Specialized', 'High']}\n"
     ]
    }
   ],
   "source": [
    "unique_ordinal_dict = {}\n",
    "for feature in ordinal_features:\n",
    "    unique_ordinal_dict[feature] = georgia_reciddf[feature].unique().tolist()\n",
    "pprint(unique_ordinal_dict)"
   ]
  },
  {
   "cell_type": "code",
   "execution_count": 21,
   "metadata": {},
   "outputs": [
    {
     "name": "stdout",
     "output_type": "stream",
     "text": [
      "{'age_at_release': ['18-22',\n",
      "                    '23-27',\n",
      "                    '28-32',\n",
      "                    '33-37',\n",
      "                    '38-42',\n",
      "                    '43-47',\n",
      "                    '48 or older'],\n",
      " 'delinquency_reports': ['0', '1', '2', '3', '4 or more'],\n",
      " 'dependents': ['0', '1', '2', '3 or more'],\n",
      " 'education_level': ['Less than HS diploma',\n",
      "                     'High School Diploma',\n",
      "                     'At least some college'],\n",
      " 'prior_arrest_episodes': ['0', '1', '2', '3', '4', '5 or more'],\n",
      " 'prior_arrest_episodes_drug': ['0', '1', '2', '3', '4', '5 or more'],\n",
      " 'prior_arrest_episodes_felony': ['0',\n",
      "                                  '1',\n",
      "                                  '2',\n",
      "                                  '3',\n",
      "                                  '4',\n",
      "                                  '5',\n",
      "                                  '6',\n",
      "                                  '7',\n",
      "                                  '8',\n",
      "                                  '9',\n",
      "                                  '10 or more'],\n",
      " 'prior_arrest_episodes_misd': ['0', '1', '2', '3', '4', '5', '6 or more'],\n",
      " 'prior_arrest_episodes_property': ['0', '1', '2', '3', '4', '5 or more'],\n",
      " 'prior_arrest_episodes_violent': ['0', '1', '2', '3 or more'],\n",
      " 'prior_conviction_episodes': ['0', '1', '2', '3 or more'],\n",
      " 'prior_conviction_episodes_1': ['0', '1', '2', '3', '4 or more'],\n",
      " 'prior_conviction_episodes_3': ['0', '1', '2', '3 or more'],\n",
      " 'prior_conviction_episodes_4': ['0', '1', '2 or more'],\n",
      " 'prison_years': ['1-2 years',\n",
      "                  'Less than 1 year',\n",
      "                  'Greater than 2 to 3 years',\n",
      "                  'More than 3 years'],\n",
      " 'program_attendances': ['0',\n",
      "                         '1',\n",
      "                         '2',\n",
      "                         '3',\n",
      "                         '4',\n",
      "                         '5',\n",
      "                         '6',\n",
      "                         '7',\n",
      "                         '8',\n",
      "                         '9',\n",
      "                         '10 or more'],\n",
      " 'program_unexcusedabsences': ['0', '1', '2', '3 or more'],\n",
      " 'residence_changes': ['0', '1', '2', '3 or more'],\n",
      " 'supervision_level_first': ['Standard', 'High', 'Specialized']}\n"
     ]
    }
   ],
   "source": [
    "features_with_corresponding_order = {\n",
    "    'education_level': ['Less than HS diploma', 'High School Diploma', 'At least some college'],\n",
    "    'prison_years': ['1-2 years', 'Less than 1 year', 'Greater than 2 to 3 years', 'More than 3 years'],\n",
    "    'supervision_level_first': ['Standard', 'High', 'Specialized'],\n",
    "    'program_attendances': ['0', '1', '2', '3', '4', '5', '6', '7', '8', '9', '10 or more'],\n",
    "    'prior_arrest_episodes_felony': ['0', '1', '2', '3', '4', '5', '6', '7', '8', '9', '10 or more']\n",
    "}\n",
    "for feature in ordinal_features:\n",
    "    if not (feature in features_with_corresponding_order.keys()):\n",
    "        features_with_corresponding_order[feature] = sorted(unique_ordinal_dict[feature], key=lambda x: int(x[0]))\n",
    "\n",
    "pprint(features_with_corresponding_order)"
   ]
  },
  {
   "cell_type": "code",
   "execution_count": 22,
   "metadata": {},
   "outputs": [],
   "source": [
    "# Encoding Categorical Variables\n",
    "for feature in ordinal_features:\n",
    "    enc = OrdinalEncoder(categories=[features_with_corresponding_order[feature]])\n",
    "    georgia_reciddf[[feature]] = enc.fit_transform(georgia_reciddf[[feature]])"
   ]
  },
  {
   "cell_type": "markdown",
   "metadata": {},
   "source": [
    "## V) **Regression Analysis**"
   ]
  },
  {
   "cell_type": "code",
   "execution_count": 23,
   "metadata": {},
   "outputs": [],
   "source": [
    "regression_columns = ['WHITE', 'age_at_release', 'gang_affiliated', 'prior_conviction_episodes',\n",
    "                    'prior_conviction_episodes_1', 'prior_conviction_episodes_2',\n",
    "                    'prior_conviction_episodes_3', 'prior_conviction_episodes_4',\n",
    "                    'prior_conviction_episodes_5', 'prior_conviction_episodes_6',\n",
    "                    'prior_conviction_episodes_7', 'supervision_risk_score_first']\n",
    "\n",
    "df_regression = georgia_reciddf.copy()[regression_columns]"
   ]
  },
  {
   "cell_type": "code",
   "execution_count": 24,
   "metadata": {},
   "outputs": [
    {
     "name": "stdout",
     "output_type": "stream",
     "text": [
      "{'1_original shape': (25835, 12),\n",
      " '2_count of null values': 0,\n",
      " '3_no. of duplicates': 7830,\n",
      " '4_shape after removing duplication and nan': (18005, 12)}\n"
     ]
    }
   ],
   "source": [
    "shape_dict = {\n",
    "    \"1_original shape\": df_regression.shape,\n",
    "    \"2_count of null values\": df_regression.isna().sum().sum(),\n",
    "    \"3_no. of duplicates\": df_regression.duplicated().sum(),\n",
    "    \"4_shape after removing duplication and nan\": df_regression.dropna().drop_duplicates().shape,\n",
    "}\n",
    "pprint(shape_dict)"
   ]
  },
  {
   "cell_type": "code",
   "execution_count": 25,
   "metadata": {},
   "outputs": [
    {
     "data": {
      "text/plain": [
       "(18005, 12)"
      ]
     },
     "execution_count": 25,
     "metadata": {},
     "output_type": "execute_result"
    }
   ],
   "source": [
    "df_regression = df_regression.groupby(df_regression.columns.tolist(), as_index=False).mean()\n",
    "df_regression.shape"
   ]
  },
  {
   "cell_type": "code",
   "execution_count": 26,
   "metadata": {},
   "outputs": [
    {
     "data": {
      "image/png": "[encoded data removed]",
      "text/plain": [
       "<Figure size 1080x360 with 2 Axes>"
      ]
     },
     "metadata": {
      "needs_background": "light"
     },
     "output_type": "display_data"
    }
   ],
   "source": [
    "# Exploratory Data Analysis\n",
    "plt.figure(figsize=(15, 5))\n",
    "sns.heatmap(df_regression.corr(), annot=True, fmt=\".2f\", linewidth=.5, cmap=\"crest\");"
   ]
  },
  {
   "cell_type": "code",
   "execution_count": 27,
   "metadata": {},
   "outputs": [
    {
     "name": "stdout",
     "output_type": "stream",
     "text": [
      "Training R2: 0.24870531231493498\n",
      "Test R2: 0.2440199204639366\n"
     ]
    }
   ],
   "source": [
    "# Model Fitting\n",
    "X, y = df_regression.drop('supervision_risk_score_first', axis=1), df_regression['supervision_risk_score_first']\n",
    "\n",
    "# Standardizing the data using StandardScaler\n",
    "scaler = StandardScaler()\n",
    "X_scaled = scaler.fit_transform(X)\n",
    "\n",
    "# Train-test split\n",
    "X_train, X_test, y_train, y_test = train_test_split(X_scaled, y, test_size=0.2, random_state=42)\n",
    "\n",
    "# Linear regression\n",
    "linear_model = LinearRegression()\n",
    "linear_model.fit(X_train, y_train)\n",
    "\n",
    "# Predictions\n",
    "y_train_pred = linear_model.predict(X_train)\n",
    "y_test_pred = linear_model.predict(X_test)\n",
    "\n",
    "# Model evaluation\n",
    "print(\"Training R2:\", r2_score(y_train, y_train_pred))\n",
    "print(\"Test R2:\", r2_score(y_test, y_test_pred))"
   ]
  },
  {
   "cell_type": "code",
   "execution_count": 28,
   "metadata": {},
   "outputs": [
    {
     "data": {
      "image/png": "[encoded data removed]",
      "text/plain": [
       "<Figure size 648x504 with 1 Axes>"
      ]
     },
     "metadata": {
      "needs_background": "light"
     },
     "output_type": "display_data"
    }
   ],
   "source": [
    "coefs = pd.DataFrame(\n",
    "    linear_model.coef_, columns=[\"Coefficients\"], index=X.columns\n",
    ").sort_values(by=\"Coefficients\")\n",
    "\n",
    "coefs.plot(kind=\"barh\", figsize=(9, 7))\n",
    "plt.axvline(x=0, color=\".5\")\n",
    "plt.subplots_adjust(left=0.3)"
   ]
  },
  {
   "cell_type": "markdown",
   "metadata": {},
   "source": [
    "# VI) ML clf"
   ]
  },
  {
   "cell_type": "code",
   "execution_count": 29,
   "metadata": {},
   "outputs": [],
   "source": [
    "# Combine Data Preprocessing Steps\n",
    "X, y = georgia_reciddf.drop(columns='recidivism_within_3years'), georgia_reciddf['recidivism_within_3years']\n",
    "X_train, X_test, y_train, y_test = train_test_split(X, y, test_size=0.2, random_state=42)"
   ]
  },
  {
   "cell_type": "code",
   "execution_count": 30,
   "metadata": {},
   "outputs": [
    {
     "name": "stdout",
     "output_type": "stream",
     "text": [
      "Class distribution in training set:\n",
      "1    0.576592\n",
      "0    0.423408\n",
      "Name: recidivism_within_3years, dtype: float64\n",
      "\n",
      "Class distribution in test set:\n",
      "1    0.578092\n",
      "0    0.421908\n",
      "Name: recidivism_within_3years, dtype: float64\n"
     ]
    }
   ],
   "source": [
    "# Check for imbalance in the training, and test sets\n",
    "print(\"Class distribution in training set:\")\n",
    "print(y_train.value_counts(normalize=True))\n",
    "print()\n",
    "print(\"Class distribution in test set:\")\n",
    "print(y_test.value_counts(normalize=True))"
   ]
  },
  {
   "cell_type": "code",
   "execution_count": 31,
   "metadata": {},
   "outputs": [
    {
     "name": "stdout",
     "output_type": "stream",
     "text": [
      "Baseline: 57.69%\n"
     ]
    }
   ],
   "source": [
    "# Baseline\n",
    "baseline = y.value_counts(normalize=True).max()\n",
    "print(f\"Baseline: {baseline * 100:.2f}%\")"
   ]
  },
  {
   "cell_type": "code",
   "execution_count": 32,
   "metadata": {},
   "outputs": [
    {
     "name": "stdout",
     "output_type": "stream",
     "text": [
      "Best Parameters:  {'pca__n_components': 20, 'classifier__n_estimators': 100, 'classifier__min_samples_split': 5, 'classifier__max_depth': 30}\n",
      "Accuracy on the training set:  0.9995645442229534\n",
      "Accuracy on the test set:  0.9711631507644668\n"
     ]
    }
   ],
   "source": [
    "# load the model from disk\n",
    "filename = \"Models/Model_1.sav\"\n",
    "loaded_model = pickle.load(open(filename, 'rb'))\n",
    "\n",
    "best_params = loaded_model.best_params_\n",
    "\n",
    "# Use the best estimator to make predictions on the training set\n",
    "y_train_pred = loaded_model.best_estimator_.predict(X_train)\n",
    "accuracy_train = accuracy_score(y_train, y_train_pred)\n",
    "\n",
    "# Predict on the test set using the best parameters\n",
    "y_pred_test = loaded_model.predict(X_test)\n",
    "accuracy_test = accuracy_score(y_test, y_pred_test)\n",
    "\n",
    "print(\"Best Parameters: \", best_params)\n",
    "print(\"Accuracy on the training set: \", accuracy_train)\n",
    "print(\"Accuracy on the test set: \", accuracy_test)"
   ]
  },
  {
   "cell_type": "code",
   "execution_count": 33,
   "metadata": {},
   "outputs": [
    {
     "name": "stdout",
     "output_type": "stream",
     "text": [
      "{'1_Confusion Matrix': [array([2075,  105], dtype=int64),\n",
      "                        array([  44, 2943], dtype=int64)],\n",
      " '2_Precision': 0.9655511811023622,\n",
      " '3_Recall': 0.9852695011717443,\n",
      " '4_AUC-ROC Score': 0.9963318109360746}\n"
     ]
    }
   ],
   "source": [
    "# Confusion matrix on the test set\n",
    "other_metrics = {\n",
    "    \"1_Confusion Matrix\": list(confusion_matrix(y_test, y_pred_test)),\n",
    "    \"2_Precision\": precision_score(y_test, y_pred_test),\n",
    "    \"3_Recall\": recall_score(y_test, y_pred_test),\n",
    "    \"4_AUC-ROC Score\": roc_auc_score(y_test, loaded_model.best_estimator_.predict_proba(X_test)[:, 1])\n",
    "}\n",
    "pprint(other_metrics)"
   ]
  },
  {
   "cell_type": "code",
   "execution_count": 34,
   "metadata": {},
   "outputs": [
    {
     "name": "stdout",
     "output_type": "stream",
     "text": [
      "Best Parameters: \n",
      "{'classifier__max_depth': 20,\n",
      " 'classifier__n_estimators': 5,\n",
      " 'pca__n_components': 20}\n",
      "Accuracy on the training set:  0.9851461196051867\n",
      "Accuracy on the test set:  0.9254886781497967\n"
     ]
    }
   ],
   "source": [
    "# Load the model from the file\n",
    "with open(\"Models/Model_2.sav\", \"rb\") as file:\n",
    "    model_2 = pickle.load(file)\n",
    "\n",
    "best_params = model_2.best_params_\n",
    "\n",
    "# Use the best estimator to make predictions on the training set\n",
    "y_train_pred = model_2.best_estimator_.predict(X_train)\n",
    "accuracy_train = accuracy_score(y_train, y_train_pred)\n",
    "\n",
    "# Predict on the test set using the best parameters\n",
    "y_pred_test = model_2.predict(X_test)\n",
    "accuracy_test = accuracy_score(y_test, y_pred_test)\n",
    "\n",
    "print(\"Best Parameters: \")\n",
    "pprint(best_params)\n",
    "print(\"Accuracy on the training set: \", accuracy_train)\n",
    "print(\"Accuracy on the test set: \", accuracy_test)"
   ]
  },
  {
   "cell_type": "code",
   "execution_count": 35,
   "metadata": {},
   "outputs": [
    {
     "name": "stdout",
     "output_type": "stream",
     "text": [
      "Best Parameters: \n",
      "{'classifier__max_depth': 20,\n",
      " 'classifier__min_samples_split': 2,\n",
      " 'umap__n_components': 20,\n",
      " 'umap__n_neighbors': 30}\n",
      "Accuracy on the training set:  1.0\n",
      "Accuracy on the test set:  0.9328430423843623\n"
     ]
    }
   ],
   "source": [
    "# Load the model from the file\n",
    "with open(\"Models/Model_3.sav\", \"rb\") as file:\n",
    "    model_3 = pickle.load(file)\n",
    "\n",
    "best_params = model_3.best_params_\n",
    "\n",
    "# Use the best estimator to make predictions on the training set\n",
    "y_train_pred = model_3.best_estimator_.predict(X_train)\n",
    "accuracy_train = accuracy_score(y_train, y_train_pred)\n",
    "\n",
    "# Predict on the test set using the best parameters\n",
    "y_pred_test = model_3.predict(X_test)\n",
    "accuracy_test = accuracy_score(y_test, y_pred_test)\n",
    "\n",
    "print(\"Best Parameters: \")\n",
    "pprint(best_params)\n",
    "print(\"Accuracy on the training set: \", accuracy_train)\n",
    "print(\"Accuracy on the test set: \", accuracy_test)"
   ]
  }
 ],
 "metadata": {
  "kernelspec": {
   "display_name": "Python 3",
   "language": "python",
   "name": "python3"
  },
  "language_info": {
   "codemirror_mode": {
    "name": "ipython",
    "version": 3
   },
   "file_extension": ".py",
   "mimetype": "text/x-python",
   "name": "python",
   "nbconvert_exporter": "python",
   "pygments_lexer": "ipython3",
   "version": "3.10.7"
  }
 },
 "nbformat": 4,
 "nbformat_minor": 2
}
